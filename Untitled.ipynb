{
 "cells": [
  {
   "cell_type": "code",
   "execution_count": 20,
   "metadata": {},
   "outputs": [],
   "source": [
    "import pandas as pd\n",
    "import matplotlib.pyplot as plt\n",
    "import seaborn as sns"
   ]
  },
  {
   "cell_type": "code",
   "execution_count": 21,
   "metadata": {},
   "outputs": [
    {
     "data": {
      "text/html": [
       "<div>\n",
       "<style scoped>\n",
       "    .dataframe tbody tr th:only-of-type {\n",
       "        vertical-align: middle;\n",
       "    }\n",
       "\n",
       "    .dataframe tbody tr th {\n",
       "        vertical-align: top;\n",
       "    }\n",
       "\n",
       "    .dataframe thead th {\n",
       "        text-align: right;\n",
       "    }\n",
       "</style>\n",
       "<table border=\"1\" class=\"dataframe\">\n",
       "  <thead>\n",
       "    <tr style=\"text-align: right;\">\n",
       "      <th></th>\n",
       "      <th>Job Title</th>\n",
       "      <th>Salary Estimate</th>\n",
       "      <th>Job Description</th>\n",
       "      <th>Rating</th>\n",
       "      <th>Company Name</th>\n",
       "      <th>Location</th>\n",
       "      <th>Headquarters</th>\n",
       "      <th>Size</th>\n",
       "      <th>Founded</th>\n",
       "      <th>Type of ownership</th>\n",
       "      <th>...</th>\n",
       "      <th>max_salary</th>\n",
       "      <th>average_salalry</th>\n",
       "      <th>comapny_text</th>\n",
       "      <th>job_state</th>\n",
       "      <th>age</th>\n",
       "      <th>python_yn</th>\n",
       "      <th>R_yn</th>\n",
       "      <th>spark</th>\n",
       "      <th>aws</th>\n",
       "      <th>excel</th>\n",
       "    </tr>\n",
       "  </thead>\n",
       "  <tbody>\n",
       "    <tr>\n",
       "      <th>0</th>\n",
       "      <td>Care Coordinator</td>\n",
       "      <td>£23K-£50K (Glassdoor est.)</td>\n",
       "      <td>Altogether Care are looking for a Care Coordin...</td>\n",
       "      <td>3.7</td>\n",
       "      <td>Altogether Care\\n3.7</td>\n",
       "      <td>Weymouth, England</td>\n",
       "      <td>-1</td>\n",
       "      <td>201 to 500 Employees</td>\n",
       "      <td>-1</td>\n",
       "      <td>Company - Private</td>\n",
       "      <td>...</td>\n",
       "      <td>50</td>\n",
       "      <td>36.5</td>\n",
       "      <td>Altogether Care\\n</td>\n",
       "      <td>Weymouth</td>\n",
       "      <td>-1</td>\n",
       "      <td>0</td>\n",
       "      <td>0</td>\n",
       "      <td>0</td>\n",
       "      <td>0</td>\n",
       "      <td>1</td>\n",
       "    </tr>\n",
       "    <tr>\n",
       "      <th>1</th>\n",
       "      <td>Care Assistant</td>\n",
       "      <td>£20K-£29K (Glassdoor est.)</td>\n",
       "      <td>Care Assistant - Tallington Lodge Care Home in...</td>\n",
       "      <td>4.5</td>\n",
       "      <td>Country Court\\n4.5</td>\n",
       "      <td>Tallington, England</td>\n",
       "      <td>-1</td>\n",
       "      <td>1001 to 5000 Employees</td>\n",
       "      <td>1983</td>\n",
       "      <td>Company - Private</td>\n",
       "      <td>...</td>\n",
       "      <td>29</td>\n",
       "      <td>24.5</td>\n",
       "      <td>Country Court\\n</td>\n",
       "      <td>Tallington</td>\n",
       "      <td>37</td>\n",
       "      <td>0</td>\n",
       "      <td>0</td>\n",
       "      <td>0</td>\n",
       "      <td>0</td>\n",
       "      <td>1</td>\n",
       "    </tr>\n",
       "    <tr>\n",
       "      <th>2</th>\n",
       "      <td>Team Leader</td>\n",
       "      <td>£19K-£24K (Glassdoor est.)</td>\n",
       "      <td>Fox Elms DCA\\nHours are 37.5\\nPay Rate £10.00 ...</td>\n",
       "      <td>3.3</td>\n",
       "      <td>Voyage Care\\n3.3</td>\n",
       "      <td>Gloucester, England</td>\n",
       "      <td>-1</td>\n",
       "      <td>5001 to 10000 Employees</td>\n",
       "      <td>1988</td>\n",
       "      <td>Company - Private</td>\n",
       "      <td>...</td>\n",
       "      <td>24</td>\n",
       "      <td>21.5</td>\n",
       "      <td>Voyage Care\\n</td>\n",
       "      <td>Gloucester</td>\n",
       "      <td>32</td>\n",
       "      <td>0</td>\n",
       "      <td>0</td>\n",
       "      <td>0</td>\n",
       "      <td>0</td>\n",
       "      <td>0</td>\n",
       "    </tr>\n",
       "    <tr>\n",
       "      <th>3</th>\n",
       "      <td>Warehouse Operative</td>\n",
       "      <td>£21K-£35K (Glassdoor est.)</td>\n",
       "      <td>Job Ad\\nJoin our team as Warehouse Operatives!...</td>\n",
       "      <td>3.7</td>\n",
       "      <td>VF Corporation\\n3.7</td>\n",
       "      <td>Bardon Mill, England</td>\n",
       "      <td>-1</td>\n",
       "      <td>10000+ Employees</td>\n",
       "      <td>1889</td>\n",
       "      <td>Company - Public</td>\n",
       "      <td>...</td>\n",
       "      <td>35</td>\n",
       "      <td>28.0</td>\n",
       "      <td>VF Corporation\\n</td>\n",
       "      <td>Bardon Mill</td>\n",
       "      <td>131</td>\n",
       "      <td>0</td>\n",
       "      <td>0</td>\n",
       "      <td>0</td>\n",
       "      <td>0</td>\n",
       "      <td>1</td>\n",
       "    </tr>\n",
       "    <tr>\n",
       "      <th>4</th>\n",
       "      <td>Senior Family Solicitor</td>\n",
       "      <td>£22K-£27K (Glassdoor est.)</td>\n",
       "      <td>Optimal Solicitors are a successful niche Lega...</td>\n",
       "      <td>4.1</td>\n",
       "      <td>Optimal Solicitors\\n4.1</td>\n",
       "      <td>Manchester, England</td>\n",
       "      <td>-1</td>\n",
       "      <td>51 to 200 Employees</td>\n",
       "      <td>2008</td>\n",
       "      <td>Private Practice / Firm</td>\n",
       "      <td>...</td>\n",
       "      <td>27</td>\n",
       "      <td>24.5</td>\n",
       "      <td>Optimal Solicitors\\n</td>\n",
       "      <td>Manchester</td>\n",
       "      <td>12</td>\n",
       "      <td>0</td>\n",
       "      <td>0</td>\n",
       "      <td>0</td>\n",
       "      <td>0</td>\n",
       "      <td>0</td>\n",
       "    </tr>\n",
       "  </tbody>\n",
       "</table>\n",
       "<p>5 rows × 25 columns</p>\n",
       "</div>"
      ],
      "text/plain": [
       "                 Job Title             Salary Estimate  \\\n",
       "0         Care Coordinator  £23K-£50K (Glassdoor est.)   \n",
       "1           Care Assistant  £20K-£29K (Glassdoor est.)   \n",
       "2              Team Leader  £19K-£24K (Glassdoor est.)   \n",
       "3      Warehouse Operative  £21K-£35K (Glassdoor est.)   \n",
       "4  Senior Family Solicitor  £22K-£27K (Glassdoor est.)   \n",
       "\n",
       "                                     Job Description  Rating  \\\n",
       "0  Altogether Care are looking for a Care Coordin...     3.7   \n",
       "1  Care Assistant - Tallington Lodge Care Home in...     4.5   \n",
       "2  Fox Elms DCA\\nHours are 37.5\\nPay Rate £10.00 ...     3.3   \n",
       "3  Job Ad\\nJoin our team as Warehouse Operatives!...     3.7   \n",
       "4  Optimal Solicitors are a successful niche Lega...     4.1   \n",
       "\n",
       "              Company Name              Location  Headquarters  \\\n",
       "0     Altogether Care\\n3.7     Weymouth, England            -1   \n",
       "1       Country Court\\n4.5   Tallington, England            -1   \n",
       "2         Voyage Care\\n3.3   Gloucester, England            -1   \n",
       "3      VF Corporation\\n3.7  Bardon Mill, England            -1   \n",
       "4  Optimal Solicitors\\n4.1   Manchester, England            -1   \n",
       "\n",
       "                      Size  Founded        Type of ownership  ... max_salary  \\\n",
       "0     201 to 500 Employees       -1        Company - Private  ...         50   \n",
       "1   1001 to 5000 Employees     1983        Company - Private  ...         29   \n",
       "2  5001 to 10000 Employees     1988        Company - Private  ...         24   \n",
       "3         10000+ Employees     1889         Company - Public  ...         35   \n",
       "4      51 to 200 Employees     2008  Private Practice / Firm  ...         27   \n",
       "\n",
       "  average_salalry          comapny_text    job_state  age  python_yn  R_yn  \\\n",
       "0            36.5     Altogether Care\\n     Weymouth   -1          0     0   \n",
       "1            24.5       Country Court\\n   Tallington   37          0     0   \n",
       "2            21.5         Voyage Care\\n   Gloucester   32          0     0   \n",
       "3            28.0      VF Corporation\\n  Bardon Mill  131          0     0   \n",
       "4            24.5  Optimal Solicitors\\n   Manchester   12          0     0   \n",
       "\n",
       "  spark aws  excel  \n",
       "0     0   0      1  \n",
       "1     0   0      1  \n",
       "2     0   0      0  \n",
       "3     0   0      1  \n",
       "4     0   0      0  \n",
       "\n",
       "[5 rows x 25 columns]"
      ]
     },
     "execution_count": 21,
     "metadata": {},
     "output_type": "execute_result"
    }
   ],
   "source": [
    "df = pd.read_csv(\"salary_data_cleaned.csv\")\n",
    "df.head()"
   ]
  },
  {
   "cell_type": "code",
   "execution_count": 22,
   "metadata": {},
   "outputs": [],
   "source": [
    "def title_simplifier(title):\n",
    "    if 'data scientist' in title.lower():\n",
    "       return 'data scientist'\n",
    "    elif 'data engineer' in title.lower():\n",
    "        return 'data enginerr'\n",
    "    elif 'ananlyst' in title.lower():\n",
    "        return 'ananlyst'\n",
    "    elif 'machine learning' in title.lower():\n",
    "        return 'mle'\n",
    "    elif 'manager' in title.lower():\n",
    "        return 'manager'\n",
    "    elif 'director' in title.lower():\n",
    "        return 'director'\n",
    "    else:\n",
    "        return 'na'\n",
    "\n",
    "def seniority(title):\n",
    "    if 'sr' in title.lower() or 'senior' in title.lower() or 'sr' in title.lower() or 'principal' in title.lower() :\n",
    "        return 'Senior'\n",
    "    elif 'jr' in title.lower() or 'jr.' in title.lower():\n",
    "        return 'jr'\n",
    "    else:\n",
    "        return 'na'\n",
    "        \n",
    "      "
   ]
  },
  {
   "cell_type": "code",
   "execution_count": 23,
   "metadata": {},
   "outputs": [],
   "source": [
    "df['job_simp'] = df['Job Title'].apply(title_simplifier)"
   ]
  },
  {
   "cell_type": "code",
   "execution_count": 24,
   "metadata": {},
   "outputs": [
    {
     "data": {
      "text/plain": [
       "data scientist    168\n",
       "na                 18\n",
       "manager             2\n",
       "Name: job_simp, dtype: int64"
      ]
     },
     "execution_count": 24,
     "metadata": {},
     "output_type": "execute_result"
    }
   ],
   "source": [
    "df.job_simp.value_counts()"
   ]
  },
  {
   "cell_type": "code",
   "execution_count": 25,
   "metadata": {},
   "outputs": [],
   "source": [
    "df['seniority'] = df['Job Title'].apply(seniority)"
   ]
  },
  {
   "cell_type": "code",
   "execution_count": 26,
   "metadata": {},
   "outputs": [
    {
     "data": {
      "text/plain": [
       "na        187\n",
       "Senior      1\n",
       "Name: seniority, dtype: int64"
      ]
     },
     "execution_count": 26,
     "metadata": {},
     "output_type": "execute_result"
    }
   ],
   "source": [
    "df.seniority.value_counts()"
   ]
  },
  {
   "cell_type": "code",
   "execution_count": 31,
   "metadata": {},
   "outputs": [
    {
     "data": {
      "text/plain": [
       "0         Altogether Care\n",
       "1           Country Court\n",
       "2             Voyage Care\n",
       "3          VF Corporation\n",
       "4      Optimal Solicitors\n",
       "              ...        \n",
       "183              CK Group\n",
       "184             CatchFish\n",
       "185             Openreach\n",
       "186            G-Research\n",
       "187              Matrix8J\n",
       "Name: comapny_text, Length: 188, dtype: object"
      ]
     },
     "execution_count": 31,
     "metadata": {},
     "output_type": "execute_result"
    }
   ],
   "source": [
    "df['comapny_text'] = df.comapny_text.apply(lambda x: x.replace('\\n', ''))\n",
    "df.comapny_text"
   ]
  },
  {
   "cell_type": "code",
   "execution_count": 33,
   "metadata": {},
   "outputs": [
    {
     "data": {
      "text/html": [
       "<div>\n",
       "<style scoped>\n",
       "    .dataframe tbody tr th:only-of-type {\n",
       "        vertical-align: middle;\n",
       "    }\n",
       "\n",
       "    .dataframe tbody tr th {\n",
       "        vertical-align: top;\n",
       "    }\n",
       "\n",
       "    .dataframe thead th {\n",
       "        text-align: right;\n",
       "    }\n",
       "</style>\n",
       "<table border=\"1\" class=\"dataframe\">\n",
       "  <thead>\n",
       "    <tr style=\"text-align: right;\">\n",
       "      <th></th>\n",
       "      <th>Rating</th>\n",
       "      <th>Headquarters</th>\n",
       "      <th>Founded</th>\n",
       "      <th>Competitors</th>\n",
       "      <th>min_salary</th>\n",
       "      <th>max_salary</th>\n",
       "      <th>average_salalry</th>\n",
       "      <th>age</th>\n",
       "      <th>python_yn</th>\n",
       "      <th>R_yn</th>\n",
       "      <th>spark</th>\n",
       "      <th>aws</th>\n",
       "      <th>excel</th>\n",
       "    </tr>\n",
       "  </thead>\n",
       "  <tbody>\n",
       "    <tr>\n",
       "      <th>count</th>\n",
       "      <td>188.000000</td>\n",
       "      <td>188.0</td>\n",
       "      <td>188.000000</td>\n",
       "      <td>188.0</td>\n",
       "      <td>188.000000</td>\n",
       "      <td>188.000000</td>\n",
       "      <td>188.000000</td>\n",
       "      <td>188.000000</td>\n",
       "      <td>188.000000</td>\n",
       "      <td>188.0</td>\n",
       "      <td>188.000000</td>\n",
       "      <td>188.000000</td>\n",
       "      <td>188.000000</td>\n",
       "    </tr>\n",
       "    <tr>\n",
       "      <th>mean</th>\n",
       "      <td>3.106383</td>\n",
       "      <td>-1.0</td>\n",
       "      <td>1386.553191</td>\n",
       "      <td>-1.0</td>\n",
       "      <td>39.281915</td>\n",
       "      <td>51.127660</td>\n",
       "      <td>45.204787</td>\n",
       "      <td>31.148936</td>\n",
       "      <td>0.718085</td>\n",
       "      <td>0.0</td>\n",
       "      <td>0.218085</td>\n",
       "      <td>0.196809</td>\n",
       "      <td>0.409574</td>\n",
       "    </tr>\n",
       "    <tr>\n",
       "      <th>std</th>\n",
       "      <td>1.945092</td>\n",
       "      <td>0.0</td>\n",
       "      <td>907.759711</td>\n",
       "      <td>0.0</td>\n",
       "      <td>7.055191</td>\n",
       "      <td>6.428935</td>\n",
       "      <td>6.303749</td>\n",
       "      <td>57.489540</td>\n",
       "      <td>0.451134</td>\n",
       "      <td>0.0</td>\n",
       "      <td>0.414048</td>\n",
       "      <td>0.398648</td>\n",
       "      <td>0.493068</td>\n",
       "    </tr>\n",
       "    <tr>\n",
       "      <th>min</th>\n",
       "      <td>-1.000000</td>\n",
       "      <td>-1.0</td>\n",
       "      <td>-1.000000</td>\n",
       "      <td>-1.0</td>\n",
       "      <td>17.000000</td>\n",
       "      <td>21.000000</td>\n",
       "      <td>19.000000</td>\n",
       "      <td>-1.000000</td>\n",
       "      <td>0.000000</td>\n",
       "      <td>0.0</td>\n",
       "      <td>0.000000</td>\n",
       "      <td>0.000000</td>\n",
       "      <td>0.000000</td>\n",
       "    </tr>\n",
       "    <tr>\n",
       "      <th>25%</th>\n",
       "      <td>3.275000</td>\n",
       "      <td>-1.0</td>\n",
       "      <td>-1.000000</td>\n",
       "      <td>-1.0</td>\n",
       "      <td>35.000000</td>\n",
       "      <td>48.000000</td>\n",
       "      <td>44.500000</td>\n",
       "      <td>-1.000000</td>\n",
       "      <td>0.000000</td>\n",
       "      <td>0.0</td>\n",
       "      <td>0.000000</td>\n",
       "      <td>0.000000</td>\n",
       "      <td>0.000000</td>\n",
       "    </tr>\n",
       "    <tr>\n",
       "      <th>50%</th>\n",
       "      <td>3.800000</td>\n",
       "      <td>-1.0</td>\n",
       "      <td>1982.500000</td>\n",
       "      <td>-1.0</td>\n",
       "      <td>40.000000</td>\n",
       "      <td>52.000000</td>\n",
       "      <td>46.000000</td>\n",
       "      <td>10.500000</td>\n",
       "      <td>1.000000</td>\n",
       "      <td>0.0</td>\n",
       "      <td>0.000000</td>\n",
       "      <td>0.000000</td>\n",
       "      <td>0.000000</td>\n",
       "    </tr>\n",
       "    <tr>\n",
       "      <th>75%</th>\n",
       "      <td>4.200000</td>\n",
       "      <td>-1.0</td>\n",
       "      <td>2007.000000</td>\n",
       "      <td>-1.0</td>\n",
       "      <td>46.000000</td>\n",
       "      <td>55.000000</td>\n",
       "      <td>50.500000</td>\n",
       "      <td>28.250000</td>\n",
       "      <td>1.000000</td>\n",
       "      <td>0.0</td>\n",
       "      <td>0.000000</td>\n",
       "      <td>0.000000</td>\n",
       "      <td>1.000000</td>\n",
       "    </tr>\n",
       "    <tr>\n",
       "      <th>max</th>\n",
       "      <td>5.000000</td>\n",
       "      <td>-1.0</td>\n",
       "      <td>2019.000000</td>\n",
       "      <td>-1.0</td>\n",
       "      <td>48.000000</td>\n",
       "      <td>57.000000</td>\n",
       "      <td>52.500000</td>\n",
       "      <td>355.000000</td>\n",
       "      <td>1.000000</td>\n",
       "      <td>0.0</td>\n",
       "      <td>1.000000</td>\n",
       "      <td>1.000000</td>\n",
       "      <td>1.000000</td>\n",
       "    </tr>\n",
       "  </tbody>\n",
       "</table>\n",
       "</div>"
      ],
      "text/plain": [
       "           Rating  Headquarters      Founded  Competitors  min_salary  \\\n",
       "count  188.000000         188.0   188.000000        188.0  188.000000   \n",
       "mean     3.106383          -1.0  1386.553191         -1.0   39.281915   \n",
       "std      1.945092           0.0   907.759711          0.0    7.055191   \n",
       "min     -1.000000          -1.0    -1.000000         -1.0   17.000000   \n",
       "25%      3.275000          -1.0    -1.000000         -1.0   35.000000   \n",
       "50%      3.800000          -1.0  1982.500000         -1.0   40.000000   \n",
       "75%      4.200000          -1.0  2007.000000         -1.0   46.000000   \n",
       "max      5.000000          -1.0  2019.000000         -1.0   48.000000   \n",
       "\n",
       "       max_salary  average_salalry         age   python_yn   R_yn       spark  \\\n",
       "count  188.000000       188.000000  188.000000  188.000000  188.0  188.000000   \n",
       "mean    51.127660        45.204787   31.148936    0.718085    0.0    0.218085   \n",
       "std      6.428935         6.303749   57.489540    0.451134    0.0    0.414048   \n",
       "min     21.000000        19.000000   -1.000000    0.000000    0.0    0.000000   \n",
       "25%     48.000000        44.500000   -1.000000    0.000000    0.0    0.000000   \n",
       "50%     52.000000        46.000000   10.500000    1.000000    0.0    0.000000   \n",
       "75%     55.000000        50.500000   28.250000    1.000000    0.0    0.000000   \n",
       "max     57.000000        52.500000  355.000000    1.000000    0.0    1.000000   \n",
       "\n",
       "              aws       excel  \n",
       "count  188.000000  188.000000  \n",
       "mean     0.196809    0.409574  \n",
       "std      0.398648    0.493068  \n",
       "min      0.000000    0.000000  \n",
       "25%      0.000000    0.000000  \n",
       "50%      0.000000    0.000000  \n",
       "75%      0.000000    1.000000  \n",
       "max      1.000000    1.000000  "
      ]
     },
     "execution_count": 33,
     "metadata": {},
     "output_type": "execute_result"
    }
   ],
   "source": [
    "df.describe()"
   ]
  },
  {
   "cell_type": "code",
   "execution_count": 35,
   "metadata": {},
   "outputs": [
    {
     "data": {
      "text/plain": [
       "<AxesSubplot:>"
      ]
     },
     "execution_count": 35,
     "metadata": {},
     "output_type": "execute_result"
    },
    {
     "data": {
      "image/png": "[encoded data removed]",
      "text/plain": [
       "<Figure size 432x288 with 1 Axes>"
      ]
     },
     "metadata": {
      "needs_background": "light"
     },
     "output_type": "display_data"
    }
   ],
   "source": [
    "df.Rating.hist()"
   ]
  },
  {
   "cell_type": "code",
   "execution_count": 38,
   "metadata": {},
   "outputs": [
    {
     "data": {
      "text/plain": [
       "<AxesSubplot:>"
      ]
     },
     "execution_count": 38,
     "metadata": {},
     "output_type": "execute_result"
    },
    {
     "data": {
      "image/png": "[encoded data removed]",
      "text/plain": [
       "<Figure size 432x288 with 1 Axes>"
      ]
     },
     "metadata": {
      "needs_background": "light"
     },
     "output_type": "display_data"
    }
   ],
   "source": [
    "df.average_salalry.hist()"
   ]
  },
  {
   "cell_type": "code",
   "execution_count": 39,
   "metadata": {},
   "outputs": [
    {
     "data": {
      "text/plain": [
       "<AxesSubplot:>"
      ]
     },
     "execution_count": 39,
     "metadata": {},
     "output_type": "execute_result"
    },
    {
     "data": {
      "image/png": "[encoded data removed]",
      "text/plain": [
       "<Figure size 432x288 with 1 Axes>"
      ]
     },
     "metadata": {
      "needs_background": "light"
     },
     "output_type": "display_data"
    }
   ],
   "source": [
    "df.boxplot(column =['Rating','age','average_salalry'])"
   ]
  },
  {
   "cell_type": "code",
   "execution_count": 40,
   "metadata": {},
   "outputs": [
    {
     "data": {
      "text/plain": [
       "<AxesSubplot:>"
      ]
     },
     "execution_count": 40,
     "metadata": {},
     "output_type": "execute_result"
    },
    {
     "data": {
      "image/png": "[encoded data removed]",
      "text/plain": [
       "<Figure size 432x288 with 1 Axes>"
      ]
     },
     "metadata": {
      "needs_background": "light"
     },
     "output_type": "display_data"
    }
   ],
   "source": [
    "df.boxplot(column =['Rating'])"
   ]
  },
  {
   "cell_type": "code",
   "execution_count": 43,
   "metadata": {},
   "outputs": [
    {
     "data": {
      "text/html": [
       "<div>\n",
       "<style scoped>\n",
       "    .dataframe tbody tr th:only-of-type {\n",
       "        vertical-align: middle;\n",
       "    }\n",
       "\n",
       "    .dataframe tbody tr th {\n",
       "        vertical-align: top;\n",
       "    }\n",
       "\n",
       "    .dataframe thead th {\n",
       "        text-align: right;\n",
       "    }\n",
       "</style>\n",
       "<table border=\"1\" class=\"dataframe\">\n",
       "  <thead>\n",
       "    <tr style=\"text-align: right;\">\n",
       "      <th></th>\n",
       "      <th>Rating</th>\n",
       "      <th>age</th>\n",
       "      <th>average_salalry</th>\n",
       "    </tr>\n",
       "  </thead>\n",
       "  <tbody>\n",
       "    <tr>\n",
       "      <th>Rating</th>\n",
       "      <td>1.000000</td>\n",
       "      <td>0.206545</td>\n",
       "      <td>0.102799</td>\n",
       "    </tr>\n",
       "    <tr>\n",
       "      <th>age</th>\n",
       "      <td>0.206545</td>\n",
       "      <td>1.000000</td>\n",
       "      <td>0.011639</td>\n",
       "    </tr>\n",
       "    <tr>\n",
       "      <th>average_salalry</th>\n",
       "      <td>0.102799</td>\n",
       "      <td>0.011639</td>\n",
       "      <td>1.000000</td>\n",
       "    </tr>\n",
       "  </tbody>\n",
       "</table>\n",
       "</div>"
      ],
      "text/plain": [
       "                   Rating       age  average_salalry\n",
       "Rating           1.000000  0.206545         0.102799\n",
       "age              0.206545  1.000000         0.011639\n",
       "average_salalry  0.102799  0.011639         1.000000"
      ]
     },
     "execution_count": 43,
     "metadata": {},
     "output_type": "execute_result"
    }
   ],
   "source": [
    "df[['Rating','age','average_salalry']].corr()"
   ]
  },
  {
   "cell_type": "code",
   "execution_count": null,
   "metadata": {},
   "outputs": [],
   "source": [
    "cmap = sns.diverging_pallete()"
   ]
  }
 ],
 "metadata": {
  "kernelspec": {
   "display_name": "Python 3",
   "language": "python",
   "name": "python3"
  },
  "language_info": {
   "codemirror_mode": {
    "name": "ipython",
    "version": 3
   },
   "file_extension": ".py",
   "mimetype": "text/x-python",
   "name": "python",
   "nbconvert_exporter": "python",
   "pygments_lexer": "ipython3",
   "version": "3.7.9"
  }
 },
 "nbformat": 4,
 "nbformat_minor": 4
}
